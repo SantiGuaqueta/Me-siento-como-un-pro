{
 "cells": [
  {
   "cell_type": "code",
   "execution_count": null,
   "metadata": {},
   "outputs": [],
   "source": [
    "# Ejercicio 1\n",
    "range(1,101) # Agragamos un rango en el cual trabajaremos\n",
    "cuadrado:int # Delcaramos vaiable cuadrado la cual es un entero\n",
    "for x in range(1,101): # Utilizamos for con el rango unidos\n",
    "    cuadrado=x**2 # Condicion donde operamos la x del for con 2\n",
    "    print(\"Los numeros del \" + str(x) + \" y sus cuadrados \" + str(cuadrado)) # Imprimimos las varabiables que deseemos   "
   ]
  },
  {
   "cell_type": "code",
   "execution_count": null,
   "metadata": {},
   "outputs": [],
   "source": [
    "# Ejercicio 2 Pro o eso creo\n",
    "range(1,1001) # Declaramos rango genral\n",
    "for x in range(2,1001,2): print(\"Los numeros pares son: \" +str(x))# Este es el primer for realizado donde en el rango se dice que iniciamos de 2 y llega hasta 1000 y va saltando de a dos valores\n",
    "for y in range(1,1001,2):print(\"Los numeros impares son: \" +str(y))# Es igual al primer for solo que en este rango empezamos en 1."
   ]
  },
  {
   "cell_type": "code",
   "execution_count": null,
   "metadata": {},
   "outputs": [],
   "source": [
    "# Ejercicio 2 medio pro\n",
    "range(1,1001) # Declaramos rango\n",
    "pares:int # declaramos variables pares e impares que son enteros \n",
    "impares:int\n",
    "for x in range(1,1001):# Usamos el for el cual tiene el rango que antes declaramos\n",
    "    if x%2: # Colocamos un condicional para hallar impares \n",
    "        print(\" impar : \" + str(x))\n",
    "    else: # si no se cumple el anterior condicional se hallara los pares\n",
    "        print(\"par : \" + str(x))"
   ]
  },
  {
   "cell_type": "code",
   "execution_count": null,
   "metadata": {},
   "outputs": [],
   "source": [
    "# Ejercicio 2 nada pro\n",
    "range(1,501) #agrego un rango pero este no ira hasta 100\n",
    "pares:int=2 # Declaramos dos variables pares e impares los cuales son enteros y pares tendra valor de 2 e impares valor de 1\n",
    "impares:int=1\n",
    "for x in range(1,501): # Usamos el for con el rango \n",
    "    print(\"Los numeros pares son:\" + str(pares) + \" y los impares \" + str(impares)) # Imprimimos pares e impares\n",
    "    impares += 2 # Le pedimos que sume dos al valor que declaramos en impares lo mismo con pares \n",
    "    pares += 2\n",
    "# Es una forma no tan pro debido a que tomamos un rango que no sea 1000 que fue el pedido pues en esta forma solo sumamos no saltamos valores"
   ]
  },
  {
   "cell_type": "code",
   "execution_count": null,
   "metadata": {},
   "outputs": [],
   "source": [
    "# Ejercicio 3\n",
    "n=int (input(\"escriba un numero entero: \")) # Le pedimos un numero cualquiera \n",
    "range(n,1) # Declaramos el rango \n",
    "\n",
    "for x in range(n,1,-2): # Para dejarlo de forma descendente el rango debe poenr primero el n que llegue hasta 2 y que vaya restando de a 2 \n",
    "    print(x) # Imprimimos el x que se obtiene del for \n",
    "    "
   ]
  },
  {
   "cell_type": "code",
   "execution_count": null,
   "metadata": {},
   "outputs": [],
   "source": [
    "#Ejercicio 4\n",
    "n=int (input(\"escriba un numero entero: \")) # Le pedimos un numero cualquiera \n",
    "range(1, n+1) # Declaramos el rango el n+1 es para que tome el valor de n\n",
    "factorial:int=1 # Declaramos la variable en este caso con nombre factorial el cual decimos que es un entero y que es igual a 1\n",
    "\n",
    "for x in range(1,n+1): # Usamos el for con el rango anteriormente nombrado\n",
    "    factorial *= x # Dentro del for ponemos esto lo cual indica que mientras se opere el for el factorial se multiplica por x\n",
    "    print(\"Los numero son \"+ str(x) +\" y sus factoriales son \" + str(factorial)) # En este caso el print si hiria dentro del for para que con cada valor del frango que tiene el for se halle el factorial"
   ]
  },
  {
   "cell_type": "code",
   "execution_count": null,
   "metadata": {},
   "outputs": [],
   "source": [
    "# Ejercicio 5\n",
    "n=int (input(\"escriba un numero entero: \")) # Le pedimos un numero cualquiera \n",
    "range(1,n+1) # Declaramos el rango el n+1 es para que tome el valor de n\n",
    "i:int=1 # Declaramos variable i como un entero y que es 1\n",
    "\n",
    "\n",
    "for x in range(1,n+1): # Usamos el for co el rango indicado anteriormene\n",
    "    i= i*2 # Declaramos que al operar este for el i se debe multiplicar por 2 \n",
    "print(\"el numero 2 elevado a la \" + str(n) + \" es igual a \" + str(i)) # En este caso el print no debe ir dentro del for imprimimos"
   ]
  },
  {
   "cell_type": "code",
   "execution_count": null,
   "metadata": {},
   "outputs": [],
   "source": [
    "# Ejercicio 6\n",
    "n=int (input(\"escriba un numero entero: \"))# Le pedimos un numero cualquiera este es el numero que se elevara este debe ser entero\n",
    "x=float (input(\"escriba un numero: \")) # Le pedimos un numero que sea el que vamos a elevar por el numero n dado este si es un flotante\n",
    "range(1,n+1) # Declaramos el rango que queramos en este caso con n+1 para que tome el valor de n\n",
    "y:float # Declaramos la variable y, la cual es un flotante en este caso\n",
    "\n",
    "\n",
    "for z in range(1,n+1): # Usamos el for el con el rango anteriormente nombrado\n",
    "    y= x**n # Dentro de este for y la variable que pusimos antes sin valor es igual a la operacion de x elevado a la y\n",
    "print(\"el numero\" + str(x) + \" elevado a la \" + str(n)+\" es igual a \"+ str(y)) # Print fuera del for para empezar e imprimimos la variables deseadas \n",
    "    "
   ]
  },
  {
   "cell_type": "code",
   "execution_count": null,
   "metadata": {},
   "outputs": [],
   "source": [
    "# Ejercicio 7\n",
    "range(1,91) # Declaramos un rango \n",
    "#Tabla de 1\n",
    "for x in range(1,11):print(\"1 x \"+ str(x)+\" = \"+str(x)) # Aqui declaramos un rango del 1 al 11 pero como en todo rango el ultimo digito se le resta 1 osea aqui se hace es una lista del 1 al 10 y esta la imprimimos puesto que la tabla del 1 solo son la secuencia del 1 al 10\n",
    "\n",
    "# Tabla del 2\n",
    "for x in range(1,11): # Declaramos el primr for con el rango de la tabla 1\n",
    "    y = 2 * x # Declaramos una variable y la cual tiene como operacion multiplicar los valores de x con el numero 2\n",
    "    print(\"2 x \"+ str(x)+\" = \"+str(y)) # Imprimimos x para que nos de la lista del 1 al 10 normal y a y la cual nos dara la misma lista pero cada valor se multiplico por 2 asi obtiniendo la tabla del 2\n",
    "# Tabla del 3\n",
    "for x in range(1,11):\n",
    "    z = 3 * x # Declaramos una variable y la cual tiene como operacion multiplicar los valores de x con el numero 3\n",
    "    print(\"3 x \"+ str(x)+\" = \"+str(z))  # Imprimimos x para que nos de la lista del 1 al 10 normal y a y la cual nos dara la misma lista pero cada valor se multiplico por 3 asi obtiniendo la tabla del 3\n",
    "# Tabla del 4\n",
    "for x in range(1,11):\n",
    "    a = 4 * x # Declaramos una variable y la cual tiene como operacion multiplicar los valores de x con el numero 4\n",
    "    print(\"4 x \"+ str(x)+\" = \"+str(a)) # Imprimimos x para que nos de la lista del 1 al 10 normal y a y la cual nos dara la misma lista pero cada valor se multiplico por 4 asi obtiniendo la tabla del 4\n",
    "# Tabla del 5\n",
    "for x in range(1,11):\n",
    "    b = 5 * x # Declaramos una variable y la cual tiene como operacion multiplicar los valores de x con el numero 5\n",
    "    print(\"5 x \"+ str(x)+\" = \"+str(b)) # Imprimimos x para que nos de la lista del 1 al 10 normal y a y la cual nos dara la misma lista pero cada valor se multiplico por 5 asi obtiniendo la tabla del 5\n",
    "# Tabla del 6\n",
    "for x in range(1,11):\n",
    "    c = 6 * x # Declaramos una variable y la cual tiene como operacion multiplicar los valores de x con el numero 6\n",
    "    print(\"6 x \"+ str(x)+\" = \"+str(c)) # Imprimimos x para que nos de la lista del 1 al 10 normal y a y la cual nos dara la misma lista pero cada valor se multiplico por 6 asi obtiniendo la tabla del 6\n",
    "# Tabla del 7\n",
    "for x in range(1,11):\n",
    "    d = 7 * x # Declaramos una variable y la cual tiene como operacion multiplicar los valores de x con el numero 7\n",
    "    print(\"7 x \"+ str(x)+\" = \"+str(d)) # Imprimimos x para que nos de la lista del 1 al 10 normal y a y la cual nos dara la misma lista pero cada valor se multiplico por 7 asi obtiniendo la tabla del 7\n",
    "# Tabla del 8\n",
    "for x in range(1,11):\n",
    "    e = 8 * x # Declaramos una variable y la cual tiene como operacion multiplicar los valores de x con el numero 8\n",
    "    print(\"8 x \"+ str(x)+\" = \"+str(e)) # Imprimimos x para que nos de la lista del 1 al 10 normal y a y la cual nos dara la misma lista pero cada valor se multiplico por 8 asi obtiniendo la tabla del 8\n",
    "# Tabla del 9\n",
    "for x in range(1,11):\n",
    "    f = 9 * x # Declaramos una variable y la cual tiene como operacion multiplicar los valores de x con el numero 9\n",
    "    print(\"9 x \"+ str(x)+\" = \"+str(f)) # Imprimimos x para que nos de la lista del 1 al 10 normal y a y la cual nos dara la misma lista pero cada valor se multiplico por 9 asi obtiniendo la tabla del 9\n",
    "# Tabla del 10\n",
    "for x in range(1,11):\n",
    "    g = 10 * x # Declaramos una variable y la cual tiene como operacion multiplicar los valores de x con el numero 10\n",
    "    print(\"10 x \"+ str(x)+\" = \"+str(g)) # Imprimimos x para que nos de la lista del 1 al 10 normal y a y la cual nos dara la misma lista pero cada valor se multiplico por 10 asi obtiniendo la tabla del 10\n"
   ]
  },
  {
   "cell_type": "code",
   "execution_count": null,
   "metadata": {},
   "outputs": [],
   "source": [
    "# Ejercicio 8\n",
    "import math\n",
    "\n",
    "def aprox(x,n):\n",
    "    m:int=0 # Declaramos variable que empieza en 0\n",
    "    for y in range(n): # Declaramos rango \n",
    "         m += x**y / math.factorial(y) #Declaramos que dentro del for se realiza la serie de Maclaurin\n",
    "    return m\n",
    "\n",
    "if __name__ == \"__main__\":\n",
    "     x= float (input(\"Escriba un numero = \")) #Pide un número cualquiera\n",
    "     n= int (input(\"Escriba el numero de series de MacLaurin =\"))  #Pide el número de series con el que trabajermos\n",
    "     a = aprox(x ,n) # Llama la función de aproximación\n",
    "     r= math.exp(x) # Toma el valor real \n",
    "     print(a) # Imprime la aproximación\n",
    "     print(r) # Imprime el valor real\n",
    "     print(\"La diferencia = \"+str(r-a)) # Imprime la diferencia entre los dos valoes"
   ]
  },
  {
   "cell_type": "code",
   "execution_count": null,
   "metadata": {},
   "outputs": [],
   "source": [
    "# Ejercicio 9\n",
    "import math\n",
    "\n",
    "def aprox_seno(x, n): # Define la función\n",
    "    z = 0\n",
    "    for i in range(0,n): # Recorre todos los números hasta n-1 \n",
    "        a = (-1) ** i # Cambia signo y eleva por los numeros del for\n",
    "        b = (x ** (2 * i + 1)) / math.factorial(2 * i + 1) # Calcula una aproximación de la función seno para x utilizando los primeros n términos de la serie de Maclaurin\n",
    "        z += a * b # Calcula todos los datos para dar la aproximación guardada en a\n",
    "    return z\n",
    "\n",
    "if __name__ == \"__main__\":\n",
    "    x = float(input(\"Ingrese el numero para calcular el Seno = \")) # Pide al usuario el número\n",
    "    n = int(input(\"Ingrese un número de series de MacLaurin = \")) # Pide al usuario las series\n",
    "    z = aprox_seno(x, n) # Llama la función\n",
    "    seno = math.sin(x) # Resultado real\n",
    "    print(\"Resultado Serie MacLaurin: \"+str (z)) # Imprime la aproxcimación\n",
    "    print(\"Resultado Funcion Math: \"+str(seno)) # Imprime la el valor real\n",
    "    print(\"Diferencia = \"+str(seno - z)) # Imprimir la diferencia entre los dos valores"
   ]
  },
  {
   "cell_type": "code",
   "execution_count": null,
   "metadata": {},
   "outputs": [],
   "source": [
    "# Ejercicio 10\n",
    "import math\n",
    "\n",
    "def aprox_arctan(x, n): # Define la función\n",
    "    \n",
    "    if abs(x) > 1: # Limita los valores que soporta\n",
    "        print(\"Error: X debe estar en el rango [-1, 1]\") # Genera el error al poner valoresfuera de los rangos\n",
    "        x = float(input(\"Ingrese otro valor = \"))\n",
    "    z = 0 # Variable empieza en 0\n",
    "    for i in range(0,n): # Recorre los números hasta n-1 \n",
    "        a = (-1) ** i # Cambia signo y eleva por los numeros del for\n",
    "        b = (x ** (2 * i + 1)) / (2 * i + 1) # Calcula una aproximación de la función arcotangente para x utilizando los primeros n términos de la serie de Maclaur\n",
    "        z += a * b # Calcula todoslos datos para dar la aproximación guardada en a\n",
    "    return z\n",
    "\n",
    "if __name__ == \"__main__\":\n",
    "    x = float(input(\"Ingrese el numero para calcular el ArcoTangente = \")) # Pide al usuario el número\n",
    "    n = int(input(\"Ingrese un número de series de MacLaurin = \")) # Pide al usuario las series\n",
    "    z = aprox_arctan(x, n) # Llama la función\n",
    "    arctan = math.atan(x) # Valor real\n",
    "    print(\"Resultado Serie MacLaurin: \"+str(z)) # Imprime la aproximación\n",
    "    print(\"Resultado Funcion Math: \"+str(arctan)) # Imprime el valor real\n",
    "    print(\"Diferencia: \"+str(arctan - z)) # Imprime la diferencia entre los dos valores"
   ]
  }
 ],
 "metadata": {
  "kernelspec": {
   "display_name": "Python 3",
   "language": "python",
   "name": "python3"
  },
  "language_info": {
   "codemirror_mode": {
    "name": "ipython",
    "version": 3
   },
   "file_extension": ".py",
   "mimetype": "text/x-python",
   "name": "python",
   "nbconvert_exporter": "python",
   "pygments_lexer": "ipython3",
   "version": "3.11.1"
  },
  "orig_nbformat": 4,
  "vscode": {
   "interpreter": {
    "hash": "fddb92d10c9cf6934e2d5e8f8a29ae8ed7d42a938c47f3b80f7acb86ecc55e76"
   }
  }
 },
 "nbformat": 4,
 "nbformat_minor": 2
}
